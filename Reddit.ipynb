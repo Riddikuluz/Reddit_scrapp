{
 "cells": [
  {
   "cell_type": "code",
   "execution_count": 1,
   "metadata": {},
   "outputs": [
    {
     "name": "stdout",
     "output_type": "stream",
     "text": [
      "Requirement already satisfied: praw in c:\\users\\ridds\\appdata\\local\\programs\\python\\python312\\lib\\site-packages (7.7.1)\n",
      "Requirement already satisfied: pandas in c:\\users\\ridds\\appdata\\local\\programs\\python\\python312\\lib\\site-packages (2.1.1)\n",
      "Requirement already satisfied: prawcore<3,>=2.1 in c:\\users\\ridds\\appdata\\local\\programs\\python\\python312\\lib\\site-packages (from praw) (2.4.0)\n",
      "Requirement already satisfied: update-checker>=0.18 in c:\\users\\ridds\\appdata\\local\\programs\\python\\python312\\lib\\site-packages (from praw) (0.18.0)\n",
      "Requirement already satisfied: websocket-client>=0.54.0 in c:\\users\\ridds\\appdata\\local\\programs\\python\\python312\\lib\\site-packages (from praw) (1.6.4)\n",
      "Requirement already satisfied: numpy>=1.26.0 in c:\\users\\ridds\\appdata\\local\\programs\\python\\python312\\lib\\site-packages (from pandas) (1.26.0)\n",
      "Requirement already satisfied: python-dateutil>=2.8.2 in c:\\users\\ridds\\appdata\\roaming\\python\\python312\\site-packages (from pandas) (2.8.2)\n",
      "Requirement already satisfied: pytz>=2020.1 in c:\\users\\ridds\\appdata\\local\\programs\\python\\python312\\lib\\site-packages (from pandas) (2023.3.post1)\n",
      "Requirement already satisfied: tzdata>=2022.1 in c:\\users\\ridds\\appdata\\local\\programs\\python\\python312\\lib\\site-packages (from pandas) (2023.3)\n",
      "Requirement already satisfied: requests<3.0,>=2.6.0 in c:\\users\\ridds\\appdata\\local\\programs\\python\\python312\\lib\\site-packages (from prawcore<3,>=2.1->praw) (2.31.0)\n",
      "Requirement already satisfied: six>=1.5 in c:\\users\\ridds\\appdata\\roaming\\python\\python312\\site-packages (from python-dateutil>=2.8.2->pandas) (1.16.0)\n",
      "Requirement already satisfied: charset-normalizer<4,>=2 in c:\\users\\ridds\\appdata\\local\\programs\\python\\python312\\lib\\site-packages (from requests<3.0,>=2.6.0->prawcore<3,>=2.1->praw) (3.3.0)\n",
      "Requirement already satisfied: idna<4,>=2.5 in c:\\users\\ridds\\appdata\\local\\programs\\python\\python312\\lib\\site-packages (from requests<3.0,>=2.6.0->prawcore<3,>=2.1->praw) (3.4)\n",
      "Requirement already satisfied: urllib3<3,>=1.21.1 in c:\\users\\ridds\\appdata\\local\\programs\\python\\python312\\lib\\site-packages (from requests<3.0,>=2.6.0->prawcore<3,>=2.1->praw) (2.0.6)\n",
      "Requirement already satisfied: certifi>=2017.4.17 in c:\\users\\ridds\\appdata\\local\\programs\\python\\python312\\lib\\site-packages (from requests<3.0,>=2.6.0->prawcore<3,>=2.1->praw) (2023.7.22)\n",
      "Note: you may need to restart the kernel to use updated packages.\n"
     ]
    }
   ],
   "source": [
    "%pip install praw pandas "
   ]
  },
  {
   "cell_type": "code",
   "execution_count": 6,
   "metadata": {},
   "outputs": [],
   "source": [
    "import praw\n",
    "import pandas as pd\n",
    "import json"
   ]
  },
  {
   "cell_type": "code",
   "execution_count": 3,
   "metadata": {},
   "outputs": [],
   "source": [
    "# https://www.reddit.com/prefs/apps\n",
    "reddit = praw.Reddit(\n",
    "   client_id=\"\", # personal use script\n",
    "   client_secret=\"\",# secret\n",
    "   user_agent=\"\" # my_user_agent\n",
    ")"
   ]
  },
  {
   "cell_type": "code",
   "execution_count": 12,
   "metadata": {},
   "outputs": [
    {
     "name": "stdout",
     "output_type": "stream",
     "text": [
      "1720\n"
     ]
    }
   ],
   "source": [
    "hot_posts = reddit.subreddit('chile').top(limit=5) #top hot\n",
    "data = []\n",
    "\n",
    "for post in hot_posts:\n",
    "    post.comments.replace_more(limit=5)\n",
    "    for comment in post.comments.list():\n",
    "        data.append(comment.body)\n",
    "\n",
    "with open('comentarios.json', 'w') as f:\n",
    "    json.dump(data, f)\n",
    "\n",
    "with open('comentarios.json', 'r') as f:\n",
    "    comentarios = json.load(f)\n",
    "\n",
    "print(len(comentarios))"
   ]
  },
  {
   "cell_type": "code",
   "execution_count": 13,
   "metadata": {},
   "outputs": [
    {
     "name": "stdout",
     "output_type": "stream",
     "text": [
      "1000\n"
     ]
    }
   ],
   "source": [
    "user = reddit.redditor('grey_carbon')\n",
    "\n",
    "comentarios = []\n",
    "for comment in user.comments.new(limit=1000):\n",
    "    comentarios.append(comment.body)\n",
    "\n",
    "with open('comentarios_User.json', 'w') as f:\n",
    "    json.dump(comentarios, f)\n",
    "\n",
    "with open('comentarios_User.json', 'r') as f:\n",
    "    comentarios = json.load(f)\n",
    "\n",
    "print(len(comentarios))"
   ]
  }
 ],
 "metadata": {
  "kernelspec": {
   "display_name": "Python 3",
   "language": "python",
   "name": "python3"
  },
  "language_info": {
   "codemirror_mode": {
    "name": "ipython",
    "version": 3
   },
   "file_extension": ".py",
   "mimetype": "text/x-python",
   "name": "python",
   "nbconvert_exporter": "python",
   "pygments_lexer": "ipython3",
   "version": "3.12.0"
  }
 },
 "nbformat": 4,
 "nbformat_minor": 2
}
