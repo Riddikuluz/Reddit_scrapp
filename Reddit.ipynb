{
 "cells": [
  {
   "cell_type": "code",
   "execution_count": 1,
   "metadata": {},
   "outputs": [
    {
     "name": "stdout",
     "output_type": "stream",
     "text": [
      "Requirement already satisfied: praw in c:\\users\\ridds\\appdata\\local\\programs\\python\\python312\\lib\\site-packages (7.7.1)\n",
      "Requirement already satisfied: sentiment-analysis-spanish in c:\\users\\ridds\\appdata\\local\\programs\\python\\python312\\lib\\site-packages (0.0.25)\n",
      "Requirement already satisfied: python-dotenv in c:\\users\\ridds\\appdata\\local\\programs\\python\\python312\\lib\\site-packages (1.0.0)\n",
      "Requirement already satisfied: openpyxl in c:\\users\\ridds\\appdata\\local\\programs\\python\\python312\\lib\\site-packages (3.1.2)\n",
      "Requirement already satisfied: prawcore<3,>=2.1 in c:\\users\\ridds\\appdata\\local\\programs\\python\\python312\\lib\\site-packages (from praw) (2.4.0)\n",
      "Requirement already satisfied: update-checker>=0.18 in c:\\users\\ridds\\appdata\\local\\programs\\python\\python312\\lib\\site-packages (from praw) (0.18.0)\n",
      "Requirement already satisfied: websocket-client>=0.54.0 in c:\\users\\ridds\\appdata\\local\\programs\\python\\python312\\lib\\site-packages (from praw) (1.6.4)\n",
      "Requirement already satisfied: et-xmlfile in c:\\users\\ridds\\appdata\\local\\programs\\python\\python312\\lib\\site-packages (from openpyxl) (1.1.0)\n",
      "Requirement already satisfied: requests<3.0,>=2.6.0 in c:\\users\\ridds\\appdata\\local\\programs\\python\\python312\\lib\\site-packages (from prawcore<3,>=2.1->praw) (2.31.0)\n",
      "Requirement already satisfied: charset-normalizer<4,>=2 in c:\\users\\ridds\\appdata\\local\\programs\\python\\python312\\lib\\site-packages (from requests<3.0,>=2.6.0->prawcore<3,>=2.1->praw) (3.3.0)\n",
      "Requirement already satisfied: idna<4,>=2.5 in c:\\users\\ridds\\appdata\\local\\programs\\python\\python312\\lib\\site-packages (from requests<3.0,>=2.6.0->prawcore<3,>=2.1->praw) (3.4)\n",
      "Requirement already satisfied: urllib3<3,>=1.21.1 in c:\\users\\ridds\\appdata\\local\\programs\\python\\python312\\lib\\site-packages (from requests<3.0,>=2.6.0->prawcore<3,>=2.1->praw) (2.0.6)\n",
      "Requirement already satisfied: certifi>=2017.4.17 in c:\\users\\ridds\\appdata\\local\\programs\\python\\python312\\lib\\site-packages (from requests<3.0,>=2.6.0->prawcore<3,>=2.1->praw) (2023.7.22)\n",
      "Note: you may need to restart the kernel to use updated packages.\n"
     ]
    }
   ],
   "source": [
    "%pip install praw sentiment-analysis-spanish python-dotenv openpyxl"
   ]
  },
  {
   "cell_type": "code",
   "execution_count": 2,
   "metadata": {},
   "outputs": [],
   "source": [
    "import praw\n",
    "import pandas as pd\n",
    "from dotenv import load_dotenv\n",
    "import os\n",
    "import datetime\n",
    "from sentiment_analysis_spanish import sentiment_analysis"
   ]
  },
  {
   "cell_type": "code",
   "execution_count": 3,
   "metadata": {},
   "outputs": [],
   "source": [
    "# Carga las variables de entorno del archivo .env\n",
    "load_dotenv()\n",
    "\n",
    "# Accede a las variables de entorno\n",
    "client_id = os.getenv('REDDIT_CLIENT_ID')\n",
    "client_secret = os.getenv('REDDIT_CLIENT_SECRET')\n",
    "user_agent = os.getenv('REDDIT_USER_AGENT')\n"
   ]
  },
  {
   "cell_type": "code",
   "execution_count": 4,
   "metadata": {},
   "outputs": [],
   "source": [
    "# https://www.reddit.com/prefs/apps\n",
    "reddit = praw.Reddit(\n",
    "   client_id= client_id , # personal use script\n",
    "   client_secret= client_secret ,# secret\n",
    "   user_agent= user_agent  # my_user_agent\n",
    ")"
   ]
  },
  {
   "cell_type": "code",
   "execution_count": 5,
   "metadata": {},
   "outputs": [
    {
     "name": "stderr",
     "output_type": "stream",
     "text": [
      "c:\\Users\\ridds\\AppData\\Local\\Programs\\Python\\Python312\\Lib\\site-packages\\sklearn\\base.py:348: InconsistentVersionWarning: Trying to unpickle estimator CountVectorizer from version 0.23.2 when using version 1.3.1. This might lead to breaking code or invalid results. Use at your own risk. For more info please refer to:\n",
      "https://scikit-learn.org/stable/model_persistence.html#security-maintainability-limitations\n",
      "  warnings.warn(\n",
      "c:\\Users\\ridds\\AppData\\Local\\Programs\\Python\\Python312\\Lib\\site-packages\\sklearn\\base.py:348: InconsistentVersionWarning: Trying to unpickle estimator MultinomialNB from version 0.23.2 when using version 1.3.1. This might lead to breaking code or invalid results. Use at your own risk. For more info please refer to:\n",
      "https://scikit-learn.org/stable/model_persistence.html#security-maintainability-limitations\n",
      "  warnings.warn(\n"
     ]
    }
   ],
   "source": [
    "# Para los comentarios:\n",
    "# Crea una instancia del analizador de sentimientos\n",
    "sentiment = sentiment_analysis.SentimentAnalysisSpanish()\n",
    "hot_posts = reddit.subreddit('chile').hot(limit=450)\n",
    "data = []\n",
    "count = 0\n",
    "\n",
    "for post in hot_posts:\n",
    "    if count >= 450:\n",
    "        break\n",
    "\n",
    "    # Extrae los comentarios del post\n",
    "    post.comments.replace_more(limit=None)\n",
    "    for comment in post.comments.list():\n",
    "        if count >= 450:\n",
    "            break\n",
    "\n",
    "        # Analiza el sentimiento del comentario\n",
    "        if comment.body:\n",
    "            analysis_comment = sentiment.sentiment(comment.body)\n",
    "            if analysis_comment > 0.05:\n",
    "                sentiment_label_comment = 'Positivo'\n",
    "            elif analysis_comment < -0.05:\n",
    "                sentiment_label_comment = 'Negativo'\n",
    "            else:\n",
    "                sentiment_label_comment = 'Neutral'\n",
    "\n",
    "            # Guarda los resultados en una lista\n",
    "            data.append({\n",
    "                'Texto': comment.body,\n",
    "                'Fecha': datetime.datetime.fromtimestamp(comment.created).strftime('%d/%m/%Y'),\n",
    "                'Nombre_Usuario': comment.author.name if comment.author else '',\n",
    "                'Concepto_asociado': sentiment_label_comment,\n",
    "                'Fuente': f'https://www.reddit.com{comment.permalink}',\n",
    "                'Género': \"S/N\",\n",
    "                'Grupo_Étareo': \"S/N\",\n",
    "                'Escolaridad': \"S/N\"\n",
    "            })\n",
    "\n",
    "            count += 1\n",
    "\n",
    "# Crea un DataFrame con los datos\n",
    "df = pd.DataFrame(data)\n",
    "\n",
    "# Guarda los datos en un archivo CSV\n",
    "#df.to_csv('reddit_comments.csv', index=False)\n",
    "\n",
    "# Guarda el dataframe en un archivo Excel\n",
    "df.to_excel('reddit_comments.xlsx', index=False)"
   ]
  },
  {
   "cell_type": "code",
   "execution_count": 6,
   "metadata": {},
   "outputs": [],
   "source": [
    "# Para las publicaciones de Reddit\n",
    "# Crea una instancia del analizador de sentimientos\n",
    "sentiment = sentiment_analysis.SentimentAnalysisSpanish()\n",
    "\n",
    "# Descarga los posts más populares del subreddit 'chile'\n",
    "hot_posts = reddit.subreddit('chile').hot(limit=450)\n",
    "\n",
    "def extract_data(posts):\n",
    "    for post in posts:\n",
    "        # Analiza el sentimiento del título del post\n",
    "        if post.title:\n",
    "            analysis = sentiment.sentiment(post.title)\n",
    "            if analysis > 0.05:\n",
    "                sentiment_label = 'Positivo'\n",
    "            elif analysis < -0.05:\n",
    "                sentiment_label = 'Negativo'\n",
    "            else:\n",
    "                sentiment_label = 'Neutral'\n",
    "\n",
    "            # Guarda los resultados en un diccionario\n",
    "            yield {\n",
    "                'Texto': post.title,\n",
    "                'Fecha': datetime.datetime.fromtimestamp(post.created),\n",
    "                'Nombre Usuario': post.author.name if post.author else '',\n",
    "                'Fuente': f'https://www.reddit.com{post.permalink}',\n",
    "                'Concepto asociado': sentiment_label,\n",
    "                'Género': \"S/N\",\n",
    "                'Grupo_Étareo': \"S/N\",\n",
    "                'Escolaridad': \"S/N\"\n",
    "            }\n",
    "\n",
    "# Crea un DataFrame con los datos\n",
    "df = pd.DataFrame(extract_data(hot_posts))\n",
    "\n",
    "# Guarda los datos en un archivo CSV\n",
    "#df.to_csv('reddit_post.csv', index=False)\n",
    "\n",
    "# Guarda el dataframe en un archivo Excel\n",
    "df.to_excel('reddit_post.xlsx', index=False)"
   ]
  }
 ],
 "metadata": {
  "kernelspec": {
   "display_name": "Python 3",
   "language": "python",
   "name": "python3"
  },
  "language_info": {
   "codemirror_mode": {
    "name": "ipython",
    "version": 3
   },
   "file_extension": ".py",
   "mimetype": "text/x-python",
   "name": "python",
   "nbconvert_exporter": "python",
   "pygments_lexer": "ipython3",
   "version": "3.12.0"
  }
 },
 "nbformat": 4,
 "nbformat_minor": 2
}
